{
  "nbformat": 4,
  "nbformat_minor": 0,
  "metadata": {
    "colab": {
      "provenance": [],
      "authorship_tag": "ABX9TyOn3dPWQeOohAKZEW8jJ6SJ",
      "include_colab_link": true
    },
    "kernelspec": {
      "name": "python3",
      "display_name": "Python 3"
    },
    "language_info": {
      "name": "python"
    }
  },
  "cells": [
    {
      "cell_type": "markdown",
      "metadata": {
        "id": "view-in-github",
        "colab_type": "text"
      },
      "source": [
        "<a href=\"https://colab.research.google.com/github/CPAnthony0913/PLMA/blob/main/0401/B1202013_exercise3.ipynb\" target=\"_parent\"><img src=\"https://colab.research.google.com/assets/colab-badge.svg\" alt=\"Open In Colab\"/></a>"
      ]
    },
    {
      "cell_type": "code",
      "execution_count": 7,
      "metadata": {
        "colab": {
          "base_uri": "https://localhost:8080/"
        },
        "id": "tPwWI8XTdTw4",
        "outputId": "459732f4-3439-40cf-f11d-78b585d11876"
      },
      "outputs": [
        {
          "output_type": "stream",
          "name": "stdout",
          "text": [
            "88.33333333333333\n",
            "{'姓名': '賴宏瑋', '性別': '男', '學號': 'M1129020'}\n",
            "95.0\n",
            "{'姓名': '許珈綺', '性別': '女', '學號': 'M1229001'}\n"
          ]
        }
      ],
      "source": [
        "import copy\n",
        "dict1={'姓名':'賴宏瑋','性別':'男','作業分數':[95,100,90]}\n",
        "dict2={'學號': 'M1129020'}\n",
        "dict1.update(dict2)\n",
        "dict3=dict1\n",
        "dict4=copy.deepcopy(dict3)\n",
        "dict3['作業分數'][1]=80\n",
        "dict4['姓名']='許珈綺'\n",
        "dict4['性別']='女'\n",
        "dict4['學號']='M1229001'\n",
        "a=dict3.pop('作業分數')\n",
        "b=dict4.pop('作業分數')\n",
        "a=sum(a)/len(a)\n",
        "b=sum(b)/len(b)\n",
        "print(a)\n",
        "print(dict3)\n",
        "print(b)\n",
        "print(dict4)"
      ]
    },
    {
      "cell_type": "code",
      "source": [
        "a=[100,50,45,60,90,95,80,50]\n",
        "a.insert(0,88)\n",
        "a[2:4]=[70,50]\n",
        "a.remove(50)\n",
        "b=a.pop(7)\n",
        "c=a.pop(0)\n",
        "print(a)\n",
        "b=b+c\n",
        "print(b)"
      ],
      "metadata": {
        "colab": {
          "base_uri": "https://localhost:8080/"
        },
        "id": "1FFMlilTkenz",
        "outputId": "303a9667-0929-4e06-cc70-a47f1aaccce2"
      },
      "execution_count": 10,
      "outputs": [
        {
          "output_type": "stream",
          "name": "stdout",
          "text": [
            "[100, 70, 60, 90, 95, 80]\n",
            "138\n"
          ]
        }
      ]
    },
    {
      "cell_type": "code",
      "source": [
        "A=int(347/3)\n",
        "B=347%3\n",
        "a=A**B\n",
        "print(a)"
      ],
      "metadata": {
        "colab": {
          "base_uri": "https://localhost:8080/"
        },
        "id": "El15DDQunMlL",
        "outputId": "13ebd850-fe76-4666-ec8f-940a6a7bde84"
      },
      "execution_count": 13,
      "outputs": [
        {
          "output_type": "stream",
          "name": "stdout",
          "text": [
            "13225\n"
          ]
        }
      ]
    }
  ]
}