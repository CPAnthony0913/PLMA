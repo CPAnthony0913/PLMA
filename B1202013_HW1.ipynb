{
  "nbformat": 4,
  "nbformat_minor": 0,
  "metadata": {
    "colab": {
      "provenance": []
    },
    "kernelspec": {
      "name": "python3",
      "display_name": "Python 3"
    },
    "language_info": {
      "name": "python"
    }
  },
  "cells": [
    {
      "cell_type": "code",
      "execution_count": 1,
      "metadata": {
        "colab": {
          "base_uri": "https://localhost:8080/"
        },
        "id": "PgIcJSnWn2t0",
        "outputId": "764f94a1-42ac-4634-b450-7be71b03d7d3"
      },
      "outputs": [
        {
          "output_type": "stream",
          "name": "stdout",
          "text": [
            "I'm a student\n"
          ]
        }
      ],
      "source": [
        "print(\"I'm a student\")"
      ]
    },
    {
      "cell_type": "code",
      "source": [
        "x1=float(input(\"x1=\"))\n",
        "y1=float(input(\"y1=\"))\n",
        "x2=float(input(\"x2=\"))\n",
        "y2=float(input(\"y2=\"))\n",
        "dx= x2-x1\n",
        "dy= y2-y1\n",
        "dist=(dx**2+dy**2)**0.5\n",
        "print(dist)"
      ],
      "metadata": {
        "colab": {
          "base_uri": "https://localhost:8080/"
        },
        "id": "kaxnLV7rn99Q",
        "outputId": "c486aaf6-c105-4d04-b395-089a59a6d2eb"
      },
      "execution_count": 3,
      "outputs": [
        {
          "output_type": "stream",
          "name": "stdout",
          "text": [
            "x1=0\n",
            "y1=0\n",
            "x2=3\n",
            "y2=4\n",
            "5.0\n"
          ]
        }
      ]
    },
    {
      "cell_type": "code",
      "source": [
        "#caculate BMI\n",
        "h=float(input(\"enter your height(cm)=\"))/100\n",
        "w=float(input(\"enter your weight(kg)=\"))\n",
        "h*=h\n",
        "bmi=w/h\n",
        "print(bmi)"
      ],
      "metadata": {
        "colab": {
          "base_uri": "https://localhost:8080/"
        },
        "id": "a5JwBL2mpXNP",
        "outputId": "350b67b0-55c5-4779-ac55-065146d1df6c"
      },
      "execution_count": 5,
      "outputs": [
        {
          "output_type": "stream",
          "name": "stdout",
          "text": [
            "enter your height(cm)=180\n",
            "enter your weight(kg)=60\n",
            "18.51851851851852\n"
          ]
        }
      ]
    }
  ]
}