{
  "nbformat": 4,
  "nbformat_minor": 0,
  "metadata": {
    "colab": {
      "provenance": [],
      "authorship_tag": "ABX9TyNZWrY6sRs8GaXiwXmkN9e7",
      "include_colab_link": true
    },
    "kernelspec": {
      "name": "python3",
      "display_name": "Python 3"
    },
    "language_info": {
      "name": "python"
    }
  },
  "cells": [
    {
      "cell_type": "markdown",
      "metadata": {
        "id": "view-in-github",
        "colab_type": "text"
      },
      "source": [
        "<a href=\"https://colab.research.google.com/github/CPAnthony0913/PLMA/blob/main/0325/B1202013_exercise2.ipynb\" target=\"_parent\"><img src=\"https://colab.research.google.com/assets/colab-badge.svg\" alt=\"Open In Colab\"/></a>"
      ]
    },
    {
      "cell_type": "code",
      "execution_count": 19,
      "metadata": {
        "colab": {
          "base_uri": "https://localhost:8080/"
        },
        "id": "FeWxJA5ahDMt",
        "outputId": "47d97304-d14c-4b0b-b80c-0edb103a1aeb"
      },
      "outputs": [
        {
          "output_type": "stream",
          "name": "stdout",
          "text": [
            "{'姓名': '賴宏瑋', '性別': '男', '作業分數': [100, 100, 90], '學號': 'M1129020'}\n",
            "96.66666666666667\n"
          ]
        }
      ],
      "source": [
        "a={'姓名':'賴宏瑋','性別':'男','作業分數':[80,95,100,90]}\n",
        "a.setdefault('學號','M1129020')\n",
        "#a['學號']='M1129020'\n",
        "a['作業分數'][1]=100\n",
        "del a['作業分數'][0]\n",
        "print(a)\n",
        "b=a['作業分數'][0]\n",
        "c=a['作業分數'][1]\n",
        "d=a['作業分數'][2]\n",
        "avg=(sum(a['作業分數']))/len(a['作業分數'])\n",
        "print(avg)\n"
      ]
    },
    {
      "cell_type": "code",
      "source": [],
      "metadata": {
        "id": "bRz3EZ0MjPXL"
      },
      "execution_count": null,
      "outputs": []
    }
  ]
}