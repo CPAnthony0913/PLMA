{
  "nbformat": 4,
  "nbformat_minor": 0,
  "metadata": {
    "colab": {
      "provenance": []
    },
    "kernelspec": {
      "name": "python3",
      "display_name": "Python 3"
    },
    "language_info": {
      "name": "python"
    }
  },
  "cells": [
    {
      "cell_type": "code",
      "execution_count": null,
      "metadata": {
        "colab": {
          "base_uri": "https://localhost:8080/"
        },
        "id": "7349Us-NcJ5Q",
        "outputId": "7239f58c-750e-4ea4-9d82-d98d5b8b1c86"
      },
      "outputs": [
        {
          "output_type": "stream",
          "name": "stdout",
          "text": [
            "A\n",
            "['K', 'H', 'U']\n"
          ]
        }
      ],
      "source": [
        "a='C,B,A'\n",
        "a=a.split(\",\")\n",
        "b=['F','G','H']\n",
        "a.extend(b)\n",
        "d=a.pop(2)\n",
        "print(d)\n",
        "a[0]=\"K\"\n",
        "del a[1:4]\n",
        "a.append('U')\n",
        "print(a)"
      ]
    },
    {
      "cell_type": "code",
      "source": [
        "a=list(input(\"輸入八位數字\"))\n",
        "print(a[4])"
      ],
      "metadata": {
        "colab": {
          "base_uri": "https://localhost:8080/"
        },
        "id": "6hhPb94Ig06N",
        "outputId": "e727d24e-6023-4cfc-ff20-a749da42791d"
      },
      "execution_count": null,
      "outputs": [
        {
          "output_type": "stream",
          "name": "stdout",
          "text": [
            "輸入八位數字12345678\n",
            "5\n"
          ]
        }
      ]
    },
    {
      "cell_type": "code",
      "source": [
        "a=\"My ID is B1202013\"\n",
        "b=a.split()\n",
        "print(\"句子字數:\",len(b))\n",
        "c=b[3]\n",
        "print(\"學號長:\",len(c))\n"
      ],
      "metadata": {
        "colab": {
          "base_uri": "https://localhost:8080/"
        },
        "id": "FdheZ6nmieh1",
        "outputId": "5b872988-52fa-4c38-93c6-96bc81695793"
      },
      "execution_count": null,
      "outputs": [
        {
          "output_type": "stream",
          "name": "stdout",
          "text": [
            "句子字數: 4\n",
            "學號長: 8\n"
          ]
        }
      ]
    },
    {
      "cell_type": "code",
      "source": [
        "a=\"I'm a student\"\n",
        "b = a.split(\"m\")\n",
        "print(a[len(b[0])])"
      ],
      "metadata": {
        "colab": {
          "base_uri": "https://localhost:8080/"
        },
        "id": "6HcZ04EzhMRf",
        "outputId": "9841f8b5-5c60-4f1a-ccbe-0e1bdafc0848"
      },
      "execution_count": null,
      "outputs": [
        {
          "output_type": "stream",
          "name": "stdout",
          "text": [
            "m\n"
          ]
        }
      ]
    }
  ]
}