{
  "nbformat": 4,
  "nbformat_minor": 0,
  "metadata": {
    "colab": {
      "provenance": [],
      "authorship_tag": "ABX9TyPgrV69dcYF/MUHKYt1sws3",
      "include_colab_link": true
    },
    "kernelspec": {
      "name": "python3",
      "display_name": "Python 3"
    },
    "language_info": {
      "name": "python"
    }
  },
  "cells": [
    {
      "cell_type": "markdown",
      "metadata": {
        "id": "view-in-github",
        "colab_type": "text"
      },
      "source": [
        "<a href=\"https://colab.research.google.com/github/CPAnthony0913/PLMA/blob/main/0429/B1202013_exercise7.ipynb\" target=\"_parent\"><img src=\"https://colab.research.google.com/assets/colab-badge.svg\" alt=\"Open In Colab\"/></a>"
      ]
    },
    {
      "cell_type": "code",
      "execution_count": null,
      "metadata": {
        "colab": {
          "base_uri": "https://localhost:8080/"
        },
        "id": "4DfDbkLytO8e",
        "outputId": "4300dc5c-0be6-4f29-c832-4c4aed752bb6"
      },
      "outputs": [
        {
          "output_type": "stream",
          "name": "stdout",
          "text": [
            "聖誕樹層數：7\n",
            "      *\n",
            "     ***\n",
            "    *****\n",
            "   *******\n",
            "  *********\n",
            " ***********\n",
            "*************\n",
            "     ***\n",
            "     ***\n",
            "     ***\n",
            "     ***\n",
            "     ***\n"
          ]
        }
      ],
      "source": [
        "def tree(x):\n",
        "    for i in range(x):\n",
        "        print(' '*(x-i-1)+'*'*(2*i+1))\n",
        "    for j in range(5):\n",
        "      print(' '*(x-2)+'*'*3)\n",
        "x=int(input(\"聖誕樹層數：\"))\n",
        "tree(x)"
      ]
    },
    {
      "cell_type": "code",
      "source": [
        "def bmi(x, y):\n",
        "  return x / ((y / 100)**2)\n",
        "y = (input(\"身高(公分)\"))\n",
        "x = (input(\"體重(公斤)\"))\n",
        "\n",
        "\n",
        "x = str(x)\n",
        "y = str(y)\n",
        "\n",
        "if (x.isdigit()) & (y.isdigit()):\n",
        "  x=float(x)\n",
        "  y=float(y)\n",
        "  print(bmi(x=x, y=y))\n",
        "  if bmi(x=x, y=y)<18.5:\n",
        "    print(\"體位:過輕\")\n",
        "  elif bmi(x=x, y=y)>=18.5 and bmi(x=x, y=y)<24:\n",
        "    print(\"體位:適中\")\n",
        "  elif bmi(x=x, y=y)>=24 and bmi(x=x, y=y)<27:\n",
        "    print(\"體位:過重\")\n",
        "  else:\n",
        "    print(\"體位:肥胖\")\n",
        "else:\n",
        "  print(\"輸入內容錯誤\")"
      ],
      "metadata": {
        "colab": {
          "base_uri": "https://localhost:8080/"
        },
        "id": "QJesy8jtz6D6",
        "outputId": "8e67d375-5839-4302-8849-27a6f8320f11"
      },
      "execution_count": 23,
      "outputs": [
        {
          "output_type": "stream",
          "name": "stdout",
          "text": [
            "身高(公分)180\n",
            "體重(公斤)86\n",
            "26.54320987654321\n",
            "體位:過重\n"
          ]
        }
      ]
    },
    {
      "cell_type": "code",
      "source": [
        "def bmi(x, y):\n",
        "  return x / ((y / 100)**2)\n",
        "y = (input(\"身高(公分)\"))\n",
        "x = (input(\"體重(公斤)\"))\n",
        "\n",
        "\n",
        "x = str(x)\n",
        "y = str(y)\n",
        "\n",
        "if (x.isdigit()) & (y.isdigit()):\n",
        "  x=float(x)\n",
        "  y=float(y)\n",
        "  print(bmi(x=x, y=y))\n",
        "  if bmi(x=x, y=y)<18.5:\n",
        "    print(\"體位:過輕\")\n",
        "  elif bmi(x=x, y=y)>=18.5 and bmi(x=x, y=y)<24:\n",
        "    print(\"體位:適中\")\n",
        "  elif bmi(x=x, y=y)>=24 and bmi(x=x, y=y)<27:\n",
        "    print(\"體位:過重\")\n",
        "  else:\n",
        "    print(\"體位:肥胖\")\n",
        "else:\n",
        "  print(\"輸入內容錯誤\")"
      ],
      "metadata": {
        "colab": {
          "base_uri": "https://localhost:8080/"
        },
        "id": "xR27l8Q7-98A",
        "outputId": "fe46fad1-d844-4b14-d2bc-61c024b87ddf"
      },
      "execution_count": 24,
      "outputs": [
        {
          "output_type": "stream",
          "name": "stdout",
          "text": [
            "身高(公分)180\n",
            "體重(公斤)q\n",
            "輸入內容錯誤\n"
          ]
        }
      ]
    }
  ]
}