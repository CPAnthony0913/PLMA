{
  "nbformat": 4,
  "nbformat_minor": 0,
  "metadata": {
    "colab": {
      "provenance": [],
      "authorship_tag": "ABX9TyMurVT2lld1U2sulA7sPa6+",
      "include_colab_link": true
    },
    "kernelspec": {
      "name": "python3",
      "display_name": "Python 3"
    },
    "language_info": {
      "name": "python"
    }
  },
  "cells": [
    {
      "cell_type": "markdown",
      "metadata": {
        "id": "view-in-github",
        "colab_type": "text"
      },
      "source": [
        "<a href=\"https://colab.research.google.com/github/CPAnthony0913/PLMA/blob/main/0429/B1202013_exercise7.ipynb\" target=\"_parent\"><img src=\"https://colab.research.google.com/assets/colab-badge.svg\" alt=\"Open In Colab\"/></a>"
      ]
    },
    {
      "cell_type": "code",
      "execution_count": null,
      "metadata": {
        "colab": {
          "base_uri": "https://localhost:8080/"
        },
        "id": "4DfDbkLytO8e",
        "outputId": "4300dc5c-0be6-4f29-c832-4c4aed752bb6"
      },
      "outputs": [
        {
          "output_type": "stream",
          "name": "stdout",
          "text": [
            "聖誕樹層數：7\n",
            "      *\n",
            "     ***\n",
            "    *****\n",
            "   *******\n",
            "  *********\n",
            " ***********\n",
            "*************\n",
            "     ***\n",
            "     ***\n",
            "     ***\n",
            "     ***\n",
            "     ***\n"
          ]
        }
      ],
      "source": [
        "def tree(x):\n",
        "    for i in range(x):\n",
        "        print(' '*(x-i-1)+'*'*(2*i+1))\n",
        "    for j in range(5):\n",
        "      print(' '*(x-2)+'*'*3)\n",
        "x=int(input(\"聖誕樹層數：\"))\n",
        "tree(x)"
      ]
    },
    {
      "cell_type": "code",
      "source": [
        "def bmi(x, y):\n",
        "  return x / ((y / 100)**2)\n",
        "y = (input(\"身高(公分)\"))\n",
        "x = (input(\"體重(公斤)\"))\n",
        "\n",
        "\n",
        "x = str(x)\n",
        "y = str(y)\n",
        "\n",
        "if (x.isdigit()) & (y.isdigit()):\n",
        "  x=float(x)\n",
        "  y=float(y)\n",
        "  print(bmi(x=x, y=y))\n",
        "else:\n",
        "  print(\"輸入內容錯誤\")"
      ],
      "metadata": {
        "colab": {
          "base_uri": "https://localhost:8080/"
        },
        "id": "QJesy8jtz6D6",
        "outputId": "de2c371d-3829-49df-a29e-b5e51359a9f1"
      },
      "execution_count": null,
      "outputs": [
        {
          "output_type": "stream",
          "name": "stdout",
          "text": [
            "身高(公分)180\n",
            "體重(公斤)86\n",
            "26.54320987654321\n"
          ]
        }
      ]
    }
  ]
}