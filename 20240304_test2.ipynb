{
  "nbformat": 4,
  "nbformat_minor": 0,
  "metadata": {
    "colab": {
      "provenance": []
    },
    "kernelspec": {
      "name": "python3",
      "display_name": "Python 3"
    },
    "language_info": {
      "name": "python"
    }
  },
  "cells": [
    {
      "cell_type": "code",
      "execution_count": null,
      "metadata": {
        "colab": {
          "base_uri": "https://localhost:8080/"
        },
        "id": "IVaMjAjKcCYF",
        "outputId": "c6c81929-0a0c-4099-805e-d144ef89b9aa"
      },
      "outputs": [
        {
          "output_type": "stream",
          "name": "stdout",
          "text": [
            "495\n"
          ]
        }
      ],
      "source": [
        "x=2\n",
        "y=1\n",
        "a=(2*x+y)*(100-y)\n",
        "print (a)\n"
      ]
    },
    {
      "cell_type": "code",
      "source": [
        "y=4\n",
        "b=100/(2*y+1)\n",
        "print(b)\n"
      ],
      "metadata": {
        "colab": {
          "base_uri": "https://localhost:8080/"
        },
        "id": "KDb4fHCDeyYg",
        "outputId": "8c78bccc-27e5-4551-ee76-ff01a92d1811"
      },
      "execution_count": null,
      "outputs": [
        {
          "output_type": "stream",
          "name": "stdout",
          "text": [
            "11.11111111111111\n"
          ]
        }
      ]
    }
  ]
}