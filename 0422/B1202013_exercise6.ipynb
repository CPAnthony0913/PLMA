{
  "nbformat": 4,
  "nbformat_minor": 0,
  "metadata": {
    "colab": {
      "provenance": [],
      "authorship_tag": "ABX9TyN7+TsPVPHbqQPrJJkOAVgi",
      "include_colab_link": true
    },
    "kernelspec": {
      "name": "python3",
      "display_name": "Python 3"
    },
    "language_info": {
      "name": "python"
    }
  },
  "cells": [
    {
      "cell_type": "markdown",
      "metadata": {
        "id": "view-in-github",
        "colab_type": "text"
      },
      "source": [
        "<a href=\"https://colab.research.google.com/github/CPAnthony0913/PLMA/blob/main/0422/B1202013_exercise6.ipynb\" target=\"_parent\"><img src=\"https://colab.research.google.com/assets/colab-badge.svg\" alt=\"Open In Colab\"/></a>"
      ]
    },
    {
      "cell_type": "code",
      "execution_count": 14,
      "metadata": {
        "colab": {
          "base_uri": "https://localhost:8080/"
        },
        "id": "yTvwOKn3mEKz",
        "outputId": "6d7b95d5-6ff6-49e6-87ec-fd8ce96d3869"
      },
      "outputs": [
        {
          "output_type": "stream",
          "name": "stdout",
          "text": [
            "1 * 1 = 1\t1 * 2 = 2\t1 * 3 = 3\t1 * 4 = 4\t1 * 5 = 5\t1 * 6 = 6\t1 * 7 = 7\t1 * 8 = 8\t1 * 9 = 9\t\n",
            "\n",
            "2 * 1 = 2\t2 * 2 = 4\t2 * 3 = 6\t2 * 4 = 8\t2 * 5 = 10\t2 * 6 = 12\t2 * 7 = 14\t2 * 8 = 16\t2 * 9 = 18\t\n",
            "\n",
            "3 * 1 = 3\t3 * 2 = 6\t3 * 3 = 9\t3 * 4 = 12\t3 * 5 = 15\t3 * 6 = 18\t3 * 7 = 21\t3 * 8 = 24\t3 * 9 = 27\t\n",
            "\n",
            "4 * 1 = 4\t4 * 2 = 8\t4 * 3 = 12\t4 * 4 = 16\t4 * 5 = 20\t4 * 6 = 24\t4 * 7 = 28\t4 * 8 = 32\t4 * 9 = 36\t\n",
            "\n",
            "5 * 1 = 5\t5 * 2 = 10\t5 * 3 = 15\t5 * 4 = 20\t5 * 5 = 25\t5 * 6 = 30\t5 * 7 = 35\t5 * 8 = 40\t5 * 9 = 45\t\n",
            "\n",
            "6 * 1 = 6\t6 * 2 = 12\t6 * 3 = 18\t6 * 4 = 24\t6 * 5 = 30\t6 * 6 = 36\t6 * 7 = 42\t6 * 8 = 48\t6 * 9 = 54\t\n",
            "\n",
            "7 * 1 = 7\t7 * 2 = 14\t7 * 3 = 21\t7 * 4 = 28\t7 * 5 = 35\t7 * 6 = 42\t7 * 7 = 49\t7 * 8 = 56\t7 * 9 = 63\t\n",
            "\n",
            "8 * 1 = 8\t8 * 2 = 16\t8 * 3 = 24\t8 * 4 = 32\t8 * 5 = 40\t8 * 6 = 48\t8 * 7 = 56\t8 * 8 = 64\t8 * 9 = 72\t\n",
            "\n",
            "9 * 1 = 9\t9 * 2 = 18\t9 * 3 = 27\t9 * 4 = 36\t9 * 5 = 45\t9 * 6 = 54\t9 * 7 = 63\t9 * 8 = 72\t9 * 9 = 81\t\n",
            "\n"
          ]
        }
      ],
      "source": [
        "i = 1\n",
        "while i <= 9:\n",
        "    j = 1\n",
        "    while j <= 9:\n",
        "        print(i, \"*\", j, \"=\", i*j ,end=\"\\t\")\n",
        "        j += 1\n",
        "    print(\"\\n\")\n",
        "    i += 1"
      ]
    },
    {
      "cell_type": "code",
      "source": [
        "import random\n",
        "answer = random.sample(range(1, 10), 4)\n",
        "print(answer)\n",
        "a = b = n = 0\n",
        "while a!=4:\n",
        "    a = b = n = 0\n",
        "    user = list(input('輸入四個數字：'))\n",
        "    for i in user:\n",
        "        if int(user[n]) == answer[n]:\n",
        "            a += 1\n",
        "        else:\n",
        "            if int(i) in answer:\n",
        "                b += 1\n",
        "        n += 1\n",
        "\n",
        "    print(f'{a}A{b}B')\n",
        "print('答對了！')"
      ],
      "metadata": {
        "colab": {
          "base_uri": "https://localhost:8080/"
        },
        "id": "aBBjf3FTsc_D",
        "outputId": "e133a1a5-b051-404d-d8e5-e5b67963f448"
      },
      "execution_count": 18,
      "outputs": [
        {
          "output_type": "stream",
          "name": "stdout",
          "text": [
            "[8, 3, 7, 6]\n",
            "輸入四個數字：5412\n",
            "0A0B\n",
            "輸入四個數字：3279\n",
            "1A1B\n",
            "輸入四個數字：9154\n",
            "0A0B\n",
            "輸入四個數字：8376\n",
            "4A0B\n",
            "答對了！\n"
          ]
        }
      ]
    }
  ]
}