{
  "nbformat": 4,
  "nbformat_minor": 0,
  "metadata": {
    "colab": {
      "provenance": [],
      "authorship_tag": "ABX9TyMpnTbD36Tam+VhyBZE7a19",
      "include_colab_link": true
    },
    "kernelspec": {
      "name": "python3",
      "display_name": "Python 3"
    },
    "language_info": {
      "name": "python"
    }
  },
  "cells": [
    {
      "cell_type": "markdown",
      "metadata": {
        "id": "view-in-github",
        "colab_type": "text"
      },
      "source": [
        "<a href=\"https://colab.research.google.com/github/CPAnthony0913/PLMA/blob/main/0415/B1202013_exercise5.ipynb\" target=\"_parent\"><img src=\"https://colab.research.google.com/assets/colab-badge.svg\" alt=\"Open In Colab\"/></a>"
      ]
    },
    {
      "cell_type": "code",
      "execution_count": 8,
      "metadata": {
        "colab": {
          "base_uri": "https://localhost:8080/"
        },
        "id": "ZPahC2bNsgK9",
        "outputId": "0c207aef-68b4-49ea-92f7-bd7c6bb5521f"
      },
      "outputs": [
        {
          "output_type": "stream",
          "name": "stdout",
          "text": [
            "1×1=1\t1×2=2\t1×3=3\t1×4=4\t1×5=5\t1×6=6\t1×7=7\t1×8=8\t1×9=9\t\n",
            "\n",
            "2×1=2\t2×2=4\t2×3=6\t2×4=8\t2×5=10\t2×6=12\t2×7=14\t2×8=16\t2×9=18\t\n",
            "\n",
            "3×1=3\t3×2=6\t3×3=9\t3×4=12\t3×5=15\t3×6=18\t3×7=21\t3×8=24\t3×9=27\t\n",
            "\n",
            "4×1=4\t4×2=8\t4×3=12\t4×4=16\t4×5=20\t4×6=24\t4×7=28\t4×8=32\t4×9=36\t\n",
            "\n",
            "5×1=5\t5×2=10\t5×3=15\t5×4=20\t5×5=25\t5×6=30\t5×7=35\t5×8=40\t5×9=45\t\n",
            "\n",
            "6×1=6\t6×2=12\t6×3=18\t6×4=24\t6×5=30\t6×6=36\t6×7=42\t6×8=48\t6×9=54\t\n",
            "\n",
            "7×1=7\t7×2=14\t7×3=21\t7×4=28\t7×5=35\t7×6=42\t7×7=49\t7×8=56\t7×9=63\t\n",
            "\n",
            "8×1=8\t8×2=16\t8×3=24\t8×4=32\t8×5=40\t8×6=48\t8×7=56\t8×8=64\t8×9=72\t\n",
            "\n",
            "9×1=9\t9×2=18\t9×3=27\t9×4=36\t9×5=45\t9×6=54\t9×7=63\t9×8=72\t9×9=81\t\n",
            "\n"
          ]
        }
      ],
      "source": [
        "for i in range(1,10):\n",
        "  for j in range(1,10):\n",
        "    k=i*j\n",
        "    print(f\"{i}×{j}={k}\", end=\"\\t\")\n",
        "  print(\"\\n\")"
      ]
    },
    {
      "cell_type": "code",
      "source": [
        "a=\"*****************\"\n",
        "for i in range(1,10):\n",
        "  print(f\"{a:^17.{2*i-1}}\")\n",
        "c=0\n",
        "for j in range(5):\n",
        "  print(f'{ \"***\":^17s}')\n",
        "\n",
        "\n",
        "\n",
        "\n"
      ],
      "metadata": {
        "colab": {
          "base_uri": "https://localhost:8080/"
        },
        "id": "wAP2BvJKv2WL",
        "outputId": "80d9ba56-28b7-47dc-feaa-ad40aee61ee6"
      },
      "execution_count": 32,
      "outputs": [
        {
          "output_type": "stream",
          "name": "stdout",
          "text": [
            "        *        \n",
            "       ***       \n",
            "      *****      \n",
            "     *******     \n",
            "    *********    \n",
            "   ***********   \n",
            "  *************  \n",
            " *************** \n",
            "*****************\n",
            "       ***       \n",
            "       ***       \n",
            "       ***       \n",
            "       ***       \n",
            "       ***       \n"
          ]
        }
      ]
    }
  ]
}