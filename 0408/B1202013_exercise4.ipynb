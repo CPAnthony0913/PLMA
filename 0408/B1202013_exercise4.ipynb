{
  "nbformat": 4,
  "nbformat_minor": 0,
  "metadata": {
    "colab": {
      "provenance": [],
      "authorship_tag": "ABX9TyME3B3AXR+ilwSOiPkZH8eg",
      "include_colab_link": true
    },
    "kernelspec": {
      "name": "python3",
      "display_name": "Python 3"
    },
    "language_info": {
      "name": "python"
    }
  },
  "cells": [
    {
      "cell_type": "markdown",
      "metadata": {
        "id": "view-in-github",
        "colab_type": "text"
      },
      "source": [
        "<a href=\"https://colab.research.google.com/github/CPAnthony0913/PLMA/blob/main/0408/B1202013_exercise4.ipynb\" target=\"_parent\"><img src=\"https://colab.research.google.com/assets/colab-badge.svg\" alt=\"Open In Colab\"/></a>"
      ]
    },
    {
      "cell_type": "code",
      "execution_count": 5,
      "metadata": {
        "colab": {
          "base_uri": "https://localhost:8080/"
        },
        "id": "ks9gZWngkgeZ",
        "outputId": "bc7dee24-02b9-4ea5-e98b-de89637151df"
      },
      "outputs": [
        {
          "output_type": "stream",
          "name": "stdout",
          "text": [
            "BMI：23\n",
            "適中\n"
          ]
        }
      ],
      "source": [
        "bmi = float(input(\"BMI：\"))\n",
        "if (bmi<18.5):\n",
        "  print(\"過輕\")\n",
        "elif (bmi>=18.5 and bmi<24):\n",
        "  print(\"適中\")\n",
        "elif (bmi>=24 and bmi<27):\n",
        "  print(\"過重\")\n",
        "else:\n",
        "  print(\"肥胖\")"
      ]
    },
    {
      "cell_type": "code",
      "source": [
        "a=float(input(\"請輸入第一個數：\"))\n",
        "c=(input(\"請輸入運算符號：\"))\n",
        "b=float(input(\"請輸入第二個數字：\"))\n",
        "if c=='+':\n",
        "  print(a+b)\n",
        "elif c=='-':\n",
        "  print(a-b)\n",
        "elif c=='*':\n",
        "  print(a*b)\n",
        "elif c=='/':\n",
        "  print(a/b)\n",
        "else:\n",
        "  print(\"error\")"
      ],
      "metadata": {
        "colab": {
          "base_uri": "https://localhost:8080/"
        },
        "id": "1cneeMMSnNFj",
        "outputId": "ffaf2f69-8e1a-4613-812e-da0057dc9afb"
      },
      "execution_count": 7,
      "outputs": [
        {
          "output_type": "stream",
          "name": "stdout",
          "text": [
            "請輸入第一個數：2\n",
            "請輸入運算符號：+\n",
            "請輸入第二個數字：3\n",
            "5.0\n"
          ]
        }
      ]
    }
  ]
}