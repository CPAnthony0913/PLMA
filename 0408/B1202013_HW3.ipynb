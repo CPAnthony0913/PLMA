{
  "nbformat": 4,
  "nbformat_minor": 0,
  "metadata": {
    "colab": {
      "provenance": [],
      "authorship_tag": "ABX9TyPCgp42fOOvqeXoIFvzl7dt",
      "include_colab_link": true
    },
    "kernelspec": {
      "name": "python3",
      "display_name": "Python 3"
    },
    "language_info": {
      "name": "python"
    }
  },
  "cells": [
    {
      "cell_type": "markdown",
      "metadata": {
        "id": "view-in-github",
        "colab_type": "text"
      },
      "source": [
        "<a href=\"https://colab.research.google.com/github/CPAnthony0913/PLMA/blob/main/0408/B1202013_HW3.ipynb\" target=\"_parent\"><img src=\"https://colab.research.google.com/assets/colab-badge.svg\" alt=\"Open In Colab\"/></a>"
      ]
    },
    {
      "cell_type": "code",
      "execution_count": 5,
      "metadata": {
        "colab": {
          "base_uri": "https://localhost:8080/"
        },
        "id": "UfwBSFzpqtfp",
        "outputId": "8519f3ad-5e3c-4214-a485-a1fe4828dc45"
      },
      "outputs": [
        {
          "output_type": "stream",
          "name": "stdout",
          "text": [
            "請輸入年分1\n",
            "1 是平年\n"
          ]
        }
      ],
      "source": [
        "year =int(input(\"請輸入年分\"))\n",
        "if (year<=1582):\n",
        "  if year%4==0:\n",
        "    print(year,\"是閏年\")\n",
        "  else:\n",
        "    print(year,\"是平年\")\n",
        "else:\n",
        "  if year%400==0:\n",
        "    print(year,\"是閏年\")\n",
        "  elif year%100==0:\n",
        "    print(year,\"是平年\")\n",
        "  elif year%4==0:\n",
        "    print(year,\"是閏年\")\n",
        "  else:\n",
        "    print(year,\"是平年\")"
      ]
    }
  ]
}